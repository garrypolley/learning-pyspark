{
 "cells": [
  {
   "cell_type": "code",
   "execution_count": 1,
   "id": "solar-nebraska",
   "metadata": {},
   "outputs": [],
   "source": [
    "from pyspark import SparkConf, SparkContext, SparkFiles\n",
    "from pyspark.sql import SparkSession\n",
    "from pyspark.sql.types import ArrayType, StructField, StructType, StringType, IntegerType\n",
    "\n",
    "appName = \"Getting Started PySpark\"\n",
    "master = \"spark://spark:7077\"\n",
    "local = \"local[*]\"\n",
    "use_local = True\n",
    "\n",
    "if not use_local:\n",
    "    spark = (\n",
    "        SparkSession.builder\n",
    "        .appName(appName)\n",
    "        .master(master)\n",
    "        .getOrCreate()\n",
    "    )\n",
    "else:\n",
    "    spark = (\n",
    "        SparkSession.builder\n",
    "        .appName(appName)\n",
    "        .getOrCreate()\n",
    "    )"
   ]
  },
  {
   "cell_type": "code",
   "execution_count": 4,
   "id": "computational-treasurer",
   "metadata": {},
   "outputs": [],
   "source": [
    "import requests\n",
    "url = 'https://www.c2fo.com/api/buyer-list'\n",
    "\n",
    "jsonData = requests.get(url)\n",
    "\n",
    "rdd = spark.sparkContext.parallelize([jsonData.text])\n",
    "\n",
    "df = spark.read.json(rdd)"
   ]
  },
  {
   "cell_type": "code",
   "execution_count": 5,
   "id": "useful-prerequisite",
   "metadata": {},
   "outputs": [
    {
     "name": "stdout",
     "output_type": "stream",
     "text": [
      "+-----+--------------------+\n",
      "|count|             results|\n",
      "+-----+--------------------+\n",
      "|  199|[{false, https://...|\n",
      "+-----+--------------------+\n",
      "\n"
     ]
    }
   ],
   "source": [
    "df.show()"
   ]
  },
  {
   "cell_type": "code",
   "execution_count": 6,
   "id": "induced-bennett",
   "metadata": {},
   "outputs": [
    {
     "name": "stdout",
     "output_type": "stream",
     "text": [
      "root\n",
      " |-- count: long (nullable = true)\n",
      " |-- results: array (nullable = true)\n",
      " |    |-- element: struct (containsNull = true)\n",
      " |    |    |-- active: boolean (nullable = true)\n",
      " |    |    |-- buyerLogoPngUrl: string (nullable = true)\n",
      " |    |    |-- buyerMarketingAssetsAllowed: boolean (nullable = true)\n",
      " |    |    |-- buyerPortalUrl: string (nullable = true)\n",
      " |    |    |-- created: string (nullable = true)\n",
      " |    |    |-- divisions: array (nullable = true)\n",
      " |    |    |    |-- element: struct (containsNull = true)\n",
      " |    |    |    |    |-- address1: string (nullable = true)\n",
      " |    |    |    |    |-- address2: string (nullable = true)\n",
      " |    |    |    |    |-- city: string (nullable = true)\n",
      " |    |    |    |    |-- country: string (nullable = true)\n",
      " |    |    |    |    |-- created: string (nullable = true)\n",
      " |    |    |    |    |-- divisionUuid: string (nullable = true)\n",
      " |    |    |    |    |-- etBatchSendId: string (nullable = true)\n",
      " |    |    |    |    |-- executiveContactName: string (nullable = true)\n",
      " |    |    |    |    |-- executiveContactTitle: string (nullable = true)\n",
      " |    |    |    |    |-- firstSendTimestamp: string (nullable = true)\n",
      " |    |    |    |    |-- locale: string (nullable = true)\n",
      " |    |    |    |    |-- marketLaunchDate: string (nullable = true)\n",
      " |    |    |    |    |-- marketingMaker: string (nullable = true)\n",
      " |    |    |    |    |-- modified: string (nullable = true)\n",
      " |    |    |    |    |-- permalink: string (nullable = true)\n",
      " |    |    |    |    |-- postalCode: string (nullable = true)\n",
      " |    |    |    |    |-- secondarySupportEmail: string (nullable = true)\n",
      " |    |    |    |    |-- secondarySupportPhone: string (nullable = true)\n",
      " |    |    |    |    |-- state: string (nullable = true)\n",
      " |    |    |    |    |-- supportEmail: string (nullable = true)\n",
      " |    |    |    |    |-- supportHours: string (nullable = true)\n",
      " |    |    |    |    |-- supportOffice: string (nullable = true)\n",
      " |    |    |    |    |-- supportPhone: string (nullable = true)\n",
      " |    |    |    |    |-- uuid: string (nullable = true)\n",
      " |    |    |-- featured: boolean (nullable = true)\n",
      " |    |    |-- imageUrl: string (nullable = true)\n",
      " |    |    |-- lockupPngUrl: string (nullable = true)\n",
      " |    |    |-- logoForDirectMail: string (nullable = true)\n",
      " |    |    |-- marketingAllowed: boolean (nullable = true)\n",
      " |    |    |-- modified: string (nullable = true)\n",
      " |    |    |-- name: string (nullable = true)\n",
      " |    |    |-- organizationUuid: string (nullable = true)\n",
      " |    |    |-- uuid: string (nullable = true)\n",
      "\n"
     ]
    }
   ],
   "source": [
    "df.printSchema()"
   ]
  },
  {
   "cell_type": "code",
   "execution_count": null,
   "id": "optimum-ranch",
   "metadata": {},
   "outputs": [],
   "source": []
  }
 ],
 "metadata": {
  "kernelspec": {
   "display_name": "Python 3",
   "language": "python",
   "name": "python3"
  },
  "language_info": {
   "codemirror_mode": {
    "name": "ipython",
    "version": 3
   },
   "file_extension": ".py",
   "mimetype": "text/x-python",
   "name": "python",
   "nbconvert_exporter": "python",
   "pygments_lexer": "ipython3",
   "version": "3.8.8"
  }
 },
 "nbformat": 4,
 "nbformat_minor": 5
}
